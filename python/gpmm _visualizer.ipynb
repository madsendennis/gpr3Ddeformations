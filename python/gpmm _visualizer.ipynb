{
 "cells": [
  {
   "cell_type": "markdown",
   "metadata": {},
   "source": [
    "# Gaussian Process Morphable Model Loading and Simple Visualization\n",
    "\n",
    "In this notebook I want to load in a statistical shape model from a .h5 file created in Scalismo and sample a novel shape from the model. \n",
    "\n",
    "Note that Scalismo saves GPMM's in HDF5/JSON format in its newest version - i.e. `.h5.json`. To convert to `.h5` use the [h5json](https://hdf5-json.readthedocs.io/en/latest/tools/h5json.html) python package by `jsontoh5 <json_file> <h5_file>`."
   ]
  },
  {
   "cell_type": "code",
   "execution_count": 4,
   "metadata": {},
   "outputs": [
    {
     "name": "stdout",
     "output_type": "stream",
     "text": [
      "The autoreload extension is already loaded. To reload it, use:\n",
      "  %reload_ext autoreload\n"
     ]
    }
   ],
   "source": [
    "%load_ext autoreload\n",
    "%autoreload 2\n",
    "from MultitaskFixedNoiseGaussianLikelihood import MultitaskFixedNoiseGaussianLikelihood\n",
    "from vectorization import vectorize, unvectorize\n",
    "\n",
    "from PyGpmmUI import PyGpmmUI\n",
    "from gpmm import GPMM, gpmm_from_h5"
   ]
  },
  {
   "cell_type": "code",
   "execution_count": 5,
   "metadata": {},
   "outputs": [
    {
     "data": {
      "application/vnd.jupyter.widget-view+json": {
       "model_id": "3e4ea35a78124ab090c1794d189867c5",
       "version_major": 2,
       "version_minor": 0
      },
      "text/plain": [
       "Button(description='Reset Camera', style=ButtonStyle())"
      ]
     },
     "metadata": {},
     "output_type": "display_data"
    },
    {
     "data": {
      "application/vnd.jupyter.widget-view+json": {
       "model_id": "ae7f7a9ecea0402884c1ac0be9d59c6a",
       "version_major": 2,
       "version_minor": 0
      },
      "text/plain": [
       "VBox(children=(HTML(value='<b>vertebrae</b>'), Button(description='Random', style=ButtonStyle()), Button(descr…"
      ]
     },
     "metadata": {},
     "output_type": "display_data"
    }
   ],
   "source": [
    "viewer_ui = PyGpmmUI()\n",
    "\n",
    "gpmm = gpmm_from_h5(\"../data/vertebrae_ssm.h5\")\n",
    "\n",
    "viewer_ui.add_gpmm(gpmm, \"vertebrae\", num_components=5)"
   ]
  },
  {
   "cell_type": "markdown",
   "metadata": {},
   "source": []
  }
 ],
 "metadata": {
  "kernelspec": {
   "display_name": "Python 3 (ipykernel)",
   "language": "python",
   "name": "python3"
  },
  "language_info": {
   "codemirror_mode": {
    "name": "ipython",
    "version": 3
   },
   "file_extension": ".py",
   "mimetype": "text/x-python",
   "name": "python",
   "nbconvert_exporter": "python",
   "pygments_lexer": "ipython3",
   "version": "3.10.14"
  }
 },
 "nbformat": 4,
 "nbformat_minor": 4
}
